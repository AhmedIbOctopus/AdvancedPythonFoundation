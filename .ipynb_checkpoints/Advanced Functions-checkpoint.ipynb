{
 "cells": [
  {
   "cell_type": "markdown",
   "id": "ab400429",
   "metadata": {},
   "source": [
    "# Python Zip Function"
   ]
  },
  {
   "cell_type": "code",
   "execution_count": 2,
   "id": "0669d94f",
   "metadata": {},
   "outputs": [
    {
     "name": "stdout",
     "output_type": "stream",
     "text": [
      "(10, 'x')\n",
      "(20, 'y')\n",
      "(30, 'z')\n"
     ]
    }
   ],
   "source": [
    "for item in zip([10, 20, 30], ['x', 'y', 'z']):\n",
    "    print(item)"
   ]
  },
  {
   "cell_type": "code",
   "execution_count": 3,
   "id": "e0f1f984",
   "metadata": {},
   "outputs": [],
   "source": [
    "x = set(zip())"
   ]
  },
  {
   "cell_type": "code",
   "execution_count": 4,
   "id": "4e65e28d",
   "metadata": {},
   "outputs": [
    {
     "data": {
      "text/plain": [
       "set()"
      ]
     },
     "execution_count": 4,
     "metadata": {},
     "output_type": "execute_result"
    }
   ],
   "source": [
    "x"
   ]
  },
  {
   "cell_type": "code",
   "execution_count": 5,
   "id": "59b164ae",
   "metadata": {},
   "outputs": [
    {
     "name": "stdout",
     "output_type": "stream",
     "text": [
      "(10,)\n",
      "(20,)\n",
      "(30,)\n"
     ]
    }
   ],
   "source": [
    "for item in zip([10, 20, 30]):\n",
    "    print(item)"
   ]
  },
  {
   "cell_type": "code",
   "execution_count": 6,
   "id": "a05caad8",
   "metadata": {},
   "outputs": [
    {
     "name": "stdout",
     "output_type": "stream",
     "text": [
      "(10, 'x', '$')\n",
      "(20, 'y', '@')\n",
      "(30, 'z', '#')\n"
     ]
    }
   ],
   "source": [
    "for item in zip([10, 20, 30], ['x', 'y', 'z'], ['$', '@', '#']):\n",
    "    print(item)"
   ]
  },
  {
   "cell_type": "code",
   "execution_count": 7,
   "id": "89a2f74c",
   "metadata": {},
   "outputs": [],
   "source": [
    "x = set(zip([10, 20], [30, 40, 50, 60]))"
   ]
  },
  {
   "cell_type": "code",
   "execution_count": 8,
   "id": "0f10b55e",
   "metadata": {},
   "outputs": [
    {
     "data": {
      "text/plain": [
       "{(10, 30), (20, 40)}"
      ]
     },
     "execution_count": 8,
     "metadata": {},
     "output_type": "execute_result"
    }
   ],
   "source": [
    "x"
   ]
  },
  {
   "cell_type": "code",
   "execution_count": 9,
   "id": "b8cd8da6",
   "metadata": {},
   "outputs": [],
   "source": [
    "from itertools import zip_longest as l1"
   ]
  },
  {
   "cell_type": "code",
   "execution_count": 10,
   "id": "ebe4b7d0",
   "metadata": {},
   "outputs": [],
   "source": [
    "x = set(l1([10, 20], [30, 40, 50, 60]))"
   ]
  },
  {
   "cell_type": "code",
   "execution_count": 11,
   "id": "fb5cf0ae",
   "metadata": {},
   "outputs": [
    {
     "data": {
      "text/plain": [
       "{(10, 30), (20, 40), (None, 50), (None, 60)}"
      ]
     },
     "execution_count": 11,
     "metadata": {},
     "output_type": "execute_result"
    }
   ],
   "source": [
    "x"
   ]
  },
  {
   "cell_type": "code",
   "execution_count": 16,
   "id": "a9771e3d",
   "metadata": {},
   "outputs": [],
   "source": [
    "# unzipping values\n",
    "unzipping = zip([10, 20, 30], ['x', 'y', 'z'], ['$', '@', '#'])\n",
    "x, y , z = zip(*unzipping)"
   ]
  },
  {
   "cell_type": "code",
   "execution_count": 17,
   "id": "4f8e393b",
   "metadata": {},
   "outputs": [
    {
     "name": "stdout",
     "output_type": "stream",
     "text": [
      "(10, 20, 30) ('x', 'y', 'z') ('$', '@', '#')\n"
     ]
    }
   ],
   "source": [
    "print(x, y, z)"
   ]
  },
  {
   "cell_type": "markdown",
   "id": "dc1d34b8",
   "metadata": {},
   "source": [
    "# The eval Function"
   ]
  },
  {
   "cell_type": "code",
   "execution_count": null,
   "id": "c089938b",
   "metadata": {},
   "outputs": [],
   "source": [
    "x = eval('10**2')\n",
    "print(x)"
   ]
  },
  {
   "cell_type": "code",
   "execution_count": null,
   "id": "9d893a17",
   "metadata": {},
   "outputs": [],
   "source": []
  }
 ],
 "metadata": {
  "kernelspec": {
   "display_name": "Python 3",
   "language": "python",
   "name": "python3"
  },
  "language_info": {
   "codemirror_mode": {
    "name": "ipython",
    "version": 3
   },
   "file_extension": ".py",
   "mimetype": "text/x-python",
   "name": "python",
   "nbconvert_exporter": "python",
   "pygments_lexer": "ipython3",
   "version": "3.8.8"
  }
 },
 "nbformat": 4,
 "nbformat_minor": 5
}
